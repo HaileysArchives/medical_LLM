{
 "cells": [
  {
   "cell_type": "markdown",
   "metadata": {},
   "source": [
    "1. 문서의 내용을 읽는다\n",
    "2. 문서를 쪼갠다\n",
    "\t- 토큰수 초과로 답변을 생성하지 못할 수 있고\n",
    "\t- 문서가 길면 (인풋이 길면) 답변 생성이 오래걸림\n",
    "\t"
   ]
  }
 ],
 "metadata": {
  "language_info": {
   "name": "python"
  }
 },
 "nbformat": 4,
 "nbformat_minor": 2
}
