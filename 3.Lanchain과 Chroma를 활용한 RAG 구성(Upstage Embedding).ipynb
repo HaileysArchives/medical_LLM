{
 "cells": [
  {
   "cell_type": "code",
   "execution_count": 1,
   "metadata": {},
   "outputs": [
    {
     "name": "stdout",
     "output_type": "stream",
     "text": [
      "Requirement already satisfied: python-dotenv in c:\\users\\carly\\anaconda3\\envs\\medical\\lib\\site-packages (1.0.1)\n",
      "Requirement already satisfied: langchain in c:\\users\\carly\\anaconda3\\envs\\medical\\lib\\site-packages (0.3.13)\n",
      "Requirement already satisfied: langchain-upstage in c:\\users\\carly\\anaconda3\\envs\\medical\\lib\\site-packages (0.4.0)\n",
      "Requirement already satisfied: langchain-community in c:\\users\\carly\\anaconda3\\envs\\medical\\lib\\site-packages (0.3.12)\n",
      "Requirement already satisfied: langchain-text-splitters in c:\\users\\carly\\anaconda3\\envs\\medical\\lib\\site-packages (0.3.4)\n",
      "Requirement already satisfied: docx2txt in c:\\users\\carly\\anaconda3\\envs\\medical\\lib\\site-packages (0.8)\n",
      "Requirement already satisfied: langchain-chroma in c:\\users\\carly\\anaconda3\\envs\\medical\\lib\\site-packages (0.1.4)\n",
      "Requirement already satisfied: PyYAML>=5.3 in c:\\users\\carly\\anaconda3\\envs\\medical\\lib\\site-packages (from langchain) (6.0.2)\n",
      "Requirement already satisfied: SQLAlchemy<3,>=1.4 in c:\\users\\carly\\anaconda3\\envs\\medical\\lib\\site-packages (from langchain) (2.0.36)\n",
      "Requirement already satisfied: aiohttp<4.0.0,>=3.8.3 in c:\\users\\carly\\anaconda3\\envs\\medical\\lib\\site-packages (from langchain) (3.11.11)\n",
      "Requirement already satisfied: async-timeout<5.0.0,>=4.0.0 in c:\\users\\carly\\anaconda3\\envs\\medical\\lib\\site-packages (from langchain) (4.0.3)\n",
      "Requirement already satisfied: langchain-core<0.4.0,>=0.3.26 in c:\\users\\carly\\anaconda3\\envs\\medical\\lib\\site-packages (from langchain) (0.3.27)\n",
      "Requirement already satisfied: langsmith<0.3,>=0.1.17 in c:\\users\\carly\\anaconda3\\envs\\medical\\lib\\site-packages (from langchain) (0.2.4)\n",
      "Requirement already satisfied: numpy<2,>=1.22.4 in c:\\users\\carly\\anaconda3\\envs\\medical\\lib\\site-packages (from langchain) (1.26.4)\n",
      "Requirement already satisfied: pydantic<3.0.0,>=2.7.4 in c:\\users\\carly\\anaconda3\\envs\\medical\\lib\\site-packages (from langchain) (2.10.4)\n",
      "Requirement already satisfied: requests<3,>=2 in c:\\users\\carly\\anaconda3\\envs\\medical\\lib\\site-packages (from langchain) (2.32.3)\n",
      "Requirement already satisfied: tenacity!=8.4.0,<10,>=8.1.0 in c:\\users\\carly\\anaconda3\\envs\\medical\\lib\\site-packages (from langchain) (9.0.0)\n",
      "Requirement already satisfied: langchain-openai<0.3,>=0.2 in c:\\users\\carly\\anaconda3\\envs\\medical\\lib\\site-packages (from langchain-upstage) (0.2.13)\n",
      "Requirement already satisfied: pypdf<5.0.0,>=4.2.0 in c:\\users\\carly\\anaconda3\\envs\\medical\\lib\\site-packages (from langchain-upstage) (4.3.1)\n",
      "Requirement already satisfied: tokenizers<0.20.0,>=0.19.1 in c:\\users\\carly\\anaconda3\\envs\\medical\\lib\\site-packages (from langchain-upstage) (0.19.1)\n",
      "Requirement already satisfied: dataclasses-json<0.7,>=0.5.7 in c:\\users\\carly\\anaconda3\\envs\\medical\\lib\\site-packages (from langchain-community) (0.6.7)\n",
      "Requirement already satisfied: httpx-sse<0.5.0,>=0.4.0 in c:\\users\\carly\\anaconda3\\envs\\medical\\lib\\site-packages (from langchain-community) (0.4.0)\n",
      "Requirement already satisfied: pydantic-settings<3.0.0,>=2.4.0 in c:\\users\\carly\\anaconda3\\envs\\medical\\lib\\site-packages (from langchain-community) (2.7.0)\n",
      "Requirement already satisfied: chromadb!=0.5.4,!=0.5.5,<0.6.0,>=0.4.0 in c:\\users\\carly\\anaconda3\\envs\\medical\\lib\\site-packages (from langchain-chroma) (0.5.23)\n",
      "Requirement already satisfied: fastapi<1,>=0.95.2 in c:\\users\\carly\\anaconda3\\envs\\medical\\lib\\site-packages (from langchain-chroma) (0.115.6)\n",
      "Requirement already satisfied: aiohappyeyeballs>=2.3.0 in c:\\users\\carly\\anaconda3\\envs\\medical\\lib\\site-packages (from aiohttp<4.0.0,>=3.8.3->langchain) (2.4.4)\n",
      "Requirement already satisfied: aiosignal>=1.1.2 in c:\\users\\carly\\anaconda3\\envs\\medical\\lib\\site-packages (from aiohttp<4.0.0,>=3.8.3->langchain) (1.3.2)\n",
      "Requirement already satisfied: attrs>=17.3.0 in c:\\users\\carly\\anaconda3\\envs\\medical\\lib\\site-packages (from aiohttp<4.0.0,>=3.8.3->langchain) (24.3.0)\n",
      "Requirement already satisfied: frozenlist>=1.1.1 in c:\\users\\carly\\anaconda3\\envs\\medical\\lib\\site-packages (from aiohttp<4.0.0,>=3.8.3->langchain) (1.5.0)\n",
      "Requirement already satisfied: multidict<7.0,>=4.5 in c:\\users\\carly\\anaconda3\\envs\\medical\\lib\\site-packages (from aiohttp<4.0.0,>=3.8.3->langchain) (6.1.0)\n",
      "Requirement already satisfied: propcache>=0.2.0 in c:\\users\\carly\\anaconda3\\envs\\medical\\lib\\site-packages (from aiohttp<4.0.0,>=3.8.3->langchain) (0.2.1)\n",
      "Requirement already satisfied: yarl<2.0,>=1.17.0 in c:\\users\\carly\\anaconda3\\envs\\medical\\lib\\site-packages (from aiohttp<4.0.0,>=3.8.3->langchain) (1.18.3)\n",
      "Requirement already satisfied: build>=1.0.3 in c:\\users\\carly\\anaconda3\\envs\\medical\\lib\\site-packages (from chromadb!=0.5.4,!=0.5.5,<0.6.0,>=0.4.0->langchain-chroma) (1.2.2.post1)\n",
      "Requirement already satisfied: chroma-hnswlib==0.7.6 in c:\\users\\carly\\anaconda3\\envs\\medical\\lib\\site-packages (from chromadb!=0.5.4,!=0.5.5,<0.6.0,>=0.4.0->langchain-chroma) (0.7.6)\n",
      "Requirement already satisfied: uvicorn>=0.18.3 in c:\\users\\carly\\anaconda3\\envs\\medical\\lib\\site-packages (from uvicorn[standard]>=0.18.3->chromadb!=0.5.4,!=0.5.5,<0.6.0,>=0.4.0->langchain-chroma) (0.34.0)\n",
      "Requirement already satisfied: posthog>=2.4.0 in c:\\users\\carly\\anaconda3\\envs\\medical\\lib\\site-packages (from chromadb!=0.5.4,!=0.5.5,<0.6.0,>=0.4.0->langchain-chroma) (3.7.4)\n",
      "Requirement already satisfied: typing_extensions>=4.5.0 in c:\\users\\carly\\anaconda3\\envs\\medical\\lib\\site-packages (from chromadb!=0.5.4,!=0.5.5,<0.6.0,>=0.4.0->langchain-chroma) (4.12.2)\n",
      "Requirement already satisfied: onnxruntime>=1.14.1 in c:\\users\\carly\\anaconda3\\envs\\medical\\lib\\site-packages (from chromadb!=0.5.4,!=0.5.5,<0.6.0,>=0.4.0->langchain-chroma) (1.20.1)\n",
      "Requirement already satisfied: opentelemetry-api>=1.2.0 in c:\\users\\carly\\anaconda3\\envs\\medical\\lib\\site-packages (from chromadb!=0.5.4,!=0.5.5,<0.6.0,>=0.4.0->langchain-chroma) (1.29.0)\n",
      "Requirement already satisfied: opentelemetry-exporter-otlp-proto-grpc>=1.2.0 in c:\\users\\carly\\anaconda3\\envs\\medical\\lib\\site-packages (from chromadb!=0.5.4,!=0.5.5,<0.6.0,>=0.4.0->langchain-chroma) (1.29.0)\n",
      "Requirement already satisfied: opentelemetry-instrumentation-fastapi>=0.41b0 in c:\\users\\carly\\anaconda3\\envs\\medical\\lib\\site-packages (from chromadb!=0.5.4,!=0.5.5,<0.6.0,>=0.4.0->langchain-chroma) (0.50b0)\n",
      "Requirement already satisfied: opentelemetry-sdk>=1.2.0 in c:\\users\\carly\\anaconda3\\envs\\medical\\lib\\site-packages (from chromadb!=0.5.4,!=0.5.5,<0.6.0,>=0.4.0->langchain-chroma) (1.29.0)\n",
      "Requirement already satisfied: pypika>=0.48.9 in c:\\users\\carly\\anaconda3\\envs\\medical\\lib\\site-packages (from chromadb!=0.5.4,!=0.5.5,<0.6.0,>=0.4.0->langchain-chroma) (0.48.9)\n",
      "Requirement already satisfied: tqdm>=4.65.0 in c:\\users\\carly\\anaconda3\\envs\\medical\\lib\\site-packages (from chromadb!=0.5.4,!=0.5.5,<0.6.0,>=0.4.0->langchain-chroma) (4.67.1)\n",
      "Requirement already satisfied: overrides>=7.3.1 in c:\\users\\carly\\anaconda3\\envs\\medical\\lib\\site-packages (from chromadb!=0.5.4,!=0.5.5,<0.6.0,>=0.4.0->langchain-chroma) (7.7.0)\n",
      "Requirement already satisfied: importlib-resources in c:\\users\\carly\\anaconda3\\envs\\medical\\lib\\site-packages (from chromadb!=0.5.4,!=0.5.5,<0.6.0,>=0.4.0->langchain-chroma) (6.4.5)\n",
      "Requirement already satisfied: grpcio>=1.58.0 in c:\\users\\carly\\anaconda3\\envs\\medical\\lib\\site-packages (from chromadb!=0.5.4,!=0.5.5,<0.6.0,>=0.4.0->langchain-chroma) (1.68.1)\n",
      "Requirement already satisfied: bcrypt>=4.0.1 in c:\\users\\carly\\anaconda3\\envs\\medical\\lib\\site-packages (from chromadb!=0.5.4,!=0.5.5,<0.6.0,>=0.4.0->langchain-chroma) (4.2.1)\n",
      "Requirement already satisfied: typer>=0.9.0 in c:\\users\\carly\\anaconda3\\envs\\medical\\lib\\site-packages (from chromadb!=0.5.4,!=0.5.5,<0.6.0,>=0.4.0->langchain-chroma) (0.15.1)\n",
      "Requirement already satisfied: kubernetes>=28.1.0 in c:\\users\\carly\\anaconda3\\envs\\medical\\lib\\site-packages (from chromadb!=0.5.4,!=0.5.5,<0.6.0,>=0.4.0->langchain-chroma) (31.0.0)\n",
      "Requirement already satisfied: mmh3>=4.0.1 in c:\\users\\carly\\anaconda3\\envs\\medical\\lib\\site-packages (from chromadb!=0.5.4,!=0.5.5,<0.6.0,>=0.4.0->langchain-chroma) (5.0.1)\n",
      "Requirement already satisfied: orjson>=3.9.12 in c:\\users\\carly\\anaconda3\\envs\\medical\\lib\\site-packages (from chromadb!=0.5.4,!=0.5.5,<0.6.0,>=0.4.0->langchain-chroma) (3.10.12)\n",
      "Requirement already satisfied: httpx>=0.27.0 in c:\\users\\carly\\anaconda3\\envs\\medical\\lib\\site-packages (from chromadb!=0.5.4,!=0.5.5,<0.6.0,>=0.4.0->langchain-chroma) (0.28.1)\n",
      "Requirement already satisfied: rich>=10.11.0 in c:\\users\\carly\\anaconda3\\envs\\medical\\lib\\site-packages (from chromadb!=0.5.4,!=0.5.5,<0.6.0,>=0.4.0->langchain-chroma) (13.9.4)\n",
      "Requirement already satisfied: marshmallow<4.0.0,>=3.18.0 in c:\\users\\carly\\anaconda3\\envs\\medical\\lib\\site-packages (from dataclasses-json<0.7,>=0.5.7->langchain-community) (3.23.2)\n",
      "Requirement already satisfied: typing-inspect<1,>=0.4.0 in c:\\users\\carly\\anaconda3\\envs\\medical\\lib\\site-packages (from dataclasses-json<0.7,>=0.5.7->langchain-community) (0.9.0)\n",
      "Requirement already satisfied: starlette<0.42.0,>=0.40.0 in c:\\users\\carly\\anaconda3\\envs\\medical\\lib\\site-packages (from fastapi<1,>=0.95.2->langchain-chroma) (0.41.3)\n",
      "Requirement already satisfied: jsonpatch<2.0,>=1.33 in c:\\users\\carly\\anaconda3\\envs\\medical\\lib\\site-packages (from langchain-core<0.4.0,>=0.3.26->langchain) (1.33)\n",
      "Requirement already satisfied: packaging<25,>=23.2 in c:\\users\\carly\\anaconda3\\envs\\medical\\lib\\site-packages (from langchain-core<0.4.0,>=0.3.26->langchain) (24.2)\n",
      "Requirement already satisfied: openai<2.0.0,>=1.55.3 in c:\\users\\carly\\anaconda3\\envs\\medical\\lib\\site-packages (from langchain-openai<0.3,>=0.2->langchain-upstage) (1.58.1)\n",
      "Requirement already satisfied: tiktoken<1,>=0.7 in c:\\users\\carly\\anaconda3\\envs\\medical\\lib\\site-packages (from langchain-openai<0.3,>=0.2->langchain-upstage) (0.8.0)\n",
      "Requirement already satisfied: requests-toolbelt<2.0.0,>=1.0.0 in c:\\users\\carly\\anaconda3\\envs\\medical\\lib\\site-packages (from langsmith<0.3,>=0.1.17->langchain) (1.0.0)\n",
      "Requirement already satisfied: annotated-types>=0.6.0 in c:\\users\\carly\\anaconda3\\envs\\medical\\lib\\site-packages (from pydantic<3.0.0,>=2.7.4->langchain) (0.7.0)\n",
      "Requirement already satisfied: pydantic-core==2.27.2 in c:\\users\\carly\\anaconda3\\envs\\medical\\lib\\site-packages (from pydantic<3.0.0,>=2.7.4->langchain) (2.27.2)\n",
      "Requirement already satisfied: charset-normalizer<4,>=2 in c:\\users\\carly\\anaconda3\\envs\\medical\\lib\\site-packages (from requests<3,>=2->langchain) (3.4.0)\n",
      "Requirement already satisfied: idna<4,>=2.5 in c:\\users\\carly\\anaconda3\\envs\\medical\\lib\\site-packages (from requests<3,>=2->langchain) (3.10)\n",
      "Requirement already satisfied: urllib3<3,>=1.21.1 in c:\\users\\carly\\anaconda3\\envs\\medical\\lib\\site-packages (from requests<3,>=2->langchain) (2.2.3)\n",
      "Requirement already satisfied: certifi>=2017.4.17 in c:\\users\\carly\\anaconda3\\envs\\medical\\lib\\site-packages (from requests<3,>=2->langchain) (2024.12.14)\n",
      "Requirement already satisfied: greenlet!=0.4.17 in c:\\users\\carly\\anaconda3\\envs\\medical\\lib\\site-packages (from SQLAlchemy<3,>=1.4->langchain) (3.1.1)\n",
      "Requirement already satisfied: huggingface-hub<1.0,>=0.16.4 in c:\\users\\carly\\anaconda3\\envs\\medical\\lib\\site-packages (from tokenizers<0.20.0,>=0.19.1->langchain-upstage) (0.27.0)\n",
      "Requirement already satisfied: pyproject_hooks in c:\\users\\carly\\anaconda3\\envs\\medical\\lib\\site-packages (from build>=1.0.3->chromadb!=0.5.4,!=0.5.5,<0.6.0,>=0.4.0->langchain-chroma) (1.2.0)\n",
      "Requirement already satisfied: colorama in c:\\users\\carly\\anaconda3\\envs\\medical\\lib\\site-packages (from build>=1.0.3->chromadb!=0.5.4,!=0.5.5,<0.6.0,>=0.4.0->langchain-chroma) (0.4.6)\n",
      "Requirement already satisfied: tomli>=1.1.0 in c:\\users\\carly\\anaconda3\\envs\\medical\\lib\\site-packages (from build>=1.0.3->chromadb!=0.5.4,!=0.5.5,<0.6.0,>=0.4.0->langchain-chroma) (2.2.1)\n",
      "Requirement already satisfied: anyio in c:\\users\\carly\\anaconda3\\envs\\medical\\lib\\site-packages (from httpx>=0.27.0->chromadb!=0.5.4,!=0.5.5,<0.6.0,>=0.4.0->langchain-chroma) (4.7.0)\n",
      "Requirement already satisfied: httpcore==1.* in c:\\users\\carly\\anaconda3\\envs\\medical\\lib\\site-packages (from httpx>=0.27.0->chromadb!=0.5.4,!=0.5.5,<0.6.0,>=0.4.0->langchain-chroma) (1.0.7)\n",
      "Requirement already satisfied: h11<0.15,>=0.13 in c:\\users\\carly\\anaconda3\\envs\\medical\\lib\\site-packages (from httpcore==1.*->httpx>=0.27.0->chromadb!=0.5.4,!=0.5.5,<0.6.0,>=0.4.0->langchain-chroma) (0.14.0)\n",
      "Requirement already satisfied: filelock in c:\\users\\carly\\anaconda3\\envs\\medical\\lib\\site-packages (from huggingface-hub<1.0,>=0.16.4->tokenizers<0.20.0,>=0.19.1->langchain-upstage) (3.16.1)\n",
      "Requirement already satisfied: fsspec>=2023.5.0 in c:\\users\\carly\\anaconda3\\envs\\medical\\lib\\site-packages (from huggingface-hub<1.0,>=0.16.4->tokenizers<0.20.0,>=0.19.1->langchain-upstage) (2024.10.0)\n",
      "Requirement already satisfied: jsonpointer>=1.9 in c:\\users\\carly\\anaconda3\\envs\\medical\\lib\\site-packages (from jsonpatch<2.0,>=1.33->langchain-core<0.4.0,>=0.3.26->langchain) (3.0.0)\n",
      "Requirement already satisfied: six>=1.9.0 in c:\\users\\carly\\anaconda3\\envs\\medical\\lib\\site-packages (from kubernetes>=28.1.0->chromadb!=0.5.4,!=0.5.5,<0.6.0,>=0.4.0->langchain-chroma) (1.16.0)\n",
      "Requirement already satisfied: python-dateutil>=2.5.3 in c:\\users\\carly\\anaconda3\\envs\\medical\\lib\\site-packages (from kubernetes>=28.1.0->chromadb!=0.5.4,!=0.5.5,<0.6.0,>=0.4.0->langchain-chroma) (2.9.0.post0)\n",
      "Requirement already satisfied: google-auth>=1.0.1 in c:\\users\\carly\\anaconda3\\envs\\medical\\lib\\site-packages (from kubernetes>=28.1.0->chromadb!=0.5.4,!=0.5.5,<0.6.0,>=0.4.0->langchain-chroma) (2.37.0)\n",
      "Requirement already satisfied: websocket-client!=0.40.0,!=0.41.*,!=0.42.*,>=0.32.0 in c:\\users\\carly\\anaconda3\\envs\\medical\\lib\\site-packages (from kubernetes>=28.1.0->chromadb!=0.5.4,!=0.5.5,<0.6.0,>=0.4.0->langchain-chroma) (1.8.0)\n",
      "Requirement already satisfied: requests-oauthlib in c:\\users\\carly\\anaconda3\\envs\\medical\\lib\\site-packages (from kubernetes>=28.1.0->chromadb!=0.5.4,!=0.5.5,<0.6.0,>=0.4.0->langchain-chroma) (2.0.0)\n",
      "Requirement already satisfied: oauthlib>=3.2.2 in c:\\users\\carly\\anaconda3\\envs\\medical\\lib\\site-packages (from kubernetes>=28.1.0->chromadb!=0.5.4,!=0.5.5,<0.6.0,>=0.4.0->langchain-chroma) (3.2.2)\n",
      "Requirement already satisfied: durationpy>=0.7 in c:\\users\\carly\\anaconda3\\envs\\medical\\lib\\site-packages (from kubernetes>=28.1.0->chromadb!=0.5.4,!=0.5.5,<0.6.0,>=0.4.0->langchain-chroma) (0.9)\n",
      "Requirement already satisfied: coloredlogs in c:\\users\\carly\\anaconda3\\envs\\medical\\lib\\site-packages (from onnxruntime>=1.14.1->chromadb!=0.5.4,!=0.5.5,<0.6.0,>=0.4.0->langchain-chroma) (15.0.1)\n",
      "Requirement already satisfied: flatbuffers in c:\\users\\carly\\anaconda3\\envs\\medical\\lib\\site-packages (from onnxruntime>=1.14.1->chromadb!=0.5.4,!=0.5.5,<0.6.0,>=0.4.0->langchain-chroma) (24.3.25)\n",
      "Requirement already satisfied: protobuf in c:\\users\\carly\\anaconda3\\envs\\medical\\lib\\site-packages (from onnxruntime>=1.14.1->chromadb!=0.5.4,!=0.5.5,<0.6.0,>=0.4.0->langchain-chroma) (5.29.2)\n",
      "Requirement already satisfied: sympy in c:\\users\\carly\\anaconda3\\envs\\medical\\lib\\site-packages (from onnxruntime>=1.14.1->chromadb!=0.5.4,!=0.5.5,<0.6.0,>=0.4.0->langchain-chroma) (1.13.3)\n",
      "Requirement already satisfied: distro<2,>=1.7.0 in c:\\users\\carly\\anaconda3\\envs\\medical\\lib\\site-packages (from openai<2.0.0,>=1.55.3->langchain-openai<0.3,>=0.2->langchain-upstage) (1.9.0)\n",
      "Requirement already satisfied: jiter<1,>=0.4.0 in c:\\users\\carly\\anaconda3\\envs\\medical\\lib\\site-packages (from openai<2.0.0,>=1.55.3->langchain-openai<0.3,>=0.2->langchain-upstage) (0.8.2)\n",
      "Requirement already satisfied: sniffio in c:\\users\\carly\\anaconda3\\envs\\medical\\lib\\site-packages (from openai<2.0.0,>=1.55.3->langchain-openai<0.3,>=0.2->langchain-upstage) (1.3.1)\n",
      "Requirement already satisfied: deprecated>=1.2.6 in c:\\users\\carly\\anaconda3\\envs\\medical\\lib\\site-packages (from opentelemetry-api>=1.2.0->chromadb!=0.5.4,!=0.5.5,<0.6.0,>=0.4.0->langchain-chroma) (1.2.15)\n",
      "Requirement already satisfied: importlib-metadata<=8.5.0,>=6.0 in c:\\users\\carly\\anaconda3\\envs\\medical\\lib\\site-packages (from opentelemetry-api>=1.2.0->chromadb!=0.5.4,!=0.5.5,<0.6.0,>=0.4.0->langchain-chroma) (8.5.0)\n",
      "Requirement already satisfied: googleapis-common-protos~=1.52 in c:\\users\\carly\\anaconda3\\envs\\medical\\lib\\site-packages (from opentelemetry-exporter-otlp-proto-grpc>=1.2.0->chromadb!=0.5.4,!=0.5.5,<0.6.0,>=0.4.0->langchain-chroma) (1.66.0)\n",
      "Requirement already satisfied: opentelemetry-exporter-otlp-proto-common==1.29.0 in c:\\users\\carly\\anaconda3\\envs\\medical\\lib\\site-packages (from opentelemetry-exporter-otlp-proto-grpc>=1.2.0->chromadb!=0.5.4,!=0.5.5,<0.6.0,>=0.4.0->langchain-chroma) (1.29.0)\n",
      "Requirement already satisfied: opentelemetry-proto==1.29.0 in c:\\users\\carly\\anaconda3\\envs\\medical\\lib\\site-packages (from opentelemetry-exporter-otlp-proto-grpc>=1.2.0->chromadb!=0.5.4,!=0.5.5,<0.6.0,>=0.4.0->langchain-chroma) (1.29.0)\n",
      "Requirement already satisfied: opentelemetry-instrumentation-asgi==0.50b0 in c:\\users\\carly\\anaconda3\\envs\\medical\\lib\\site-packages (from opentelemetry-instrumentation-fastapi>=0.41b0->chromadb!=0.5.4,!=0.5.5,<0.6.0,>=0.4.0->langchain-chroma) (0.50b0)\n",
      "Requirement already satisfied: opentelemetry-instrumentation==0.50b0 in c:\\users\\carly\\anaconda3\\envs\\medical\\lib\\site-packages (from opentelemetry-instrumentation-fastapi>=0.41b0->chromadb!=0.5.4,!=0.5.5,<0.6.0,>=0.4.0->langchain-chroma) (0.50b0)\n",
      "Requirement already satisfied: opentelemetry-semantic-conventions==0.50b0 in c:\\users\\carly\\anaconda3\\envs\\medical\\lib\\site-packages (from opentelemetry-instrumentation-fastapi>=0.41b0->chromadb!=0.5.4,!=0.5.5,<0.6.0,>=0.4.0->langchain-chroma) (0.50b0)\n",
      "Requirement already satisfied: opentelemetry-util-http==0.50b0 in c:\\users\\carly\\anaconda3\\envs\\medical\\lib\\site-packages (from opentelemetry-instrumentation-fastapi>=0.41b0->chromadb!=0.5.4,!=0.5.5,<0.6.0,>=0.4.0->langchain-chroma) (0.50b0)\n",
      "Requirement already satisfied: wrapt<2.0.0,>=1.0.0 in c:\\users\\carly\\anaconda3\\envs\\medical\\lib\\site-packages (from opentelemetry-instrumentation==0.50b0->opentelemetry-instrumentation-fastapi>=0.41b0->chromadb!=0.5.4,!=0.5.5,<0.6.0,>=0.4.0->langchain-chroma) (1.17.0)\n",
      "Requirement already satisfied: asgiref~=3.0 in c:\\users\\carly\\anaconda3\\envs\\medical\\lib\\site-packages (from opentelemetry-instrumentation-asgi==0.50b0->opentelemetry-instrumentation-fastapi>=0.41b0->chromadb!=0.5.4,!=0.5.5,<0.6.0,>=0.4.0->langchain-chroma) (3.8.1)\n",
      "Requirement already satisfied: monotonic>=1.5 in c:\\users\\carly\\anaconda3\\envs\\medical\\lib\\site-packages (from posthog>=2.4.0->chromadb!=0.5.4,!=0.5.5,<0.6.0,>=0.4.0->langchain-chroma) (1.6)\n",
      "Requirement already satisfied: backoff>=1.10.0 in c:\\users\\carly\\anaconda3\\envs\\medical\\lib\\site-packages (from posthog>=2.4.0->chromadb!=0.5.4,!=0.5.5,<0.6.0,>=0.4.0->langchain-chroma) (2.2.1)\n",
      "Requirement already satisfied: markdown-it-py>=2.2.0 in c:\\users\\carly\\anaconda3\\envs\\medical\\lib\\site-packages (from rich>=10.11.0->chromadb!=0.5.4,!=0.5.5,<0.6.0,>=0.4.0->langchain-chroma) (3.0.0)\n",
      "Requirement already satisfied: pygments<3.0.0,>=2.13.0 in c:\\users\\carly\\anaconda3\\envs\\medical\\lib\\site-packages (from rich>=10.11.0->chromadb!=0.5.4,!=0.5.5,<0.6.0,>=0.4.0->langchain-chroma) (2.15.1)\n",
      "Requirement already satisfied: regex>=2022.1.18 in c:\\users\\carly\\anaconda3\\envs\\medical\\lib\\site-packages (from tiktoken<1,>=0.7->langchain-openai<0.3,>=0.2->langchain-upstage) (2024.11.6)\n",
      "Requirement already satisfied: click>=8.0.0 in c:\\users\\carly\\anaconda3\\envs\\medical\\lib\\site-packages (from typer>=0.9.0->chromadb!=0.5.4,!=0.5.5,<0.6.0,>=0.4.0->langchain-chroma) (8.1.7)\n",
      "Requirement already satisfied: shellingham>=1.3.0 in c:\\users\\carly\\anaconda3\\envs\\medical\\lib\\site-packages (from typer>=0.9.0->chromadb!=0.5.4,!=0.5.5,<0.6.0,>=0.4.0->langchain-chroma) (1.5.4)\n",
      "Requirement already satisfied: mypy-extensions>=0.3.0 in c:\\users\\carly\\anaconda3\\envs\\medical\\lib\\site-packages (from typing-inspect<1,>=0.4.0->dataclasses-json<0.7,>=0.5.7->langchain-community) (1.0.0)\n",
      "Requirement already satisfied: httptools>=0.6.3 in c:\\users\\carly\\anaconda3\\envs\\medical\\lib\\site-packages (from uvicorn[standard]>=0.18.3->chromadb!=0.5.4,!=0.5.5,<0.6.0,>=0.4.0->langchain-chroma) (0.6.4)\n",
      "Requirement already satisfied: watchfiles>=0.13 in c:\\users\\carly\\anaconda3\\envs\\medical\\lib\\site-packages (from uvicorn[standard]>=0.18.3->chromadb!=0.5.4,!=0.5.5,<0.6.0,>=0.4.0->langchain-chroma) (1.0.3)\n",
      "Requirement already satisfied: websockets>=10.4 in c:\\users\\carly\\anaconda3\\envs\\medical\\lib\\site-packages (from uvicorn[standard]>=0.18.3->chromadb!=0.5.4,!=0.5.5,<0.6.0,>=0.4.0->langchain-chroma) (14.1)\n",
      "Requirement already satisfied: exceptiongroup>=1.0.2 in c:\\users\\carly\\anaconda3\\envs\\medical\\lib\\site-packages (from anyio->httpx>=0.27.0->chromadb!=0.5.4,!=0.5.5,<0.6.0,>=0.4.0->langchain-chroma) (1.2.0)\n",
      "Requirement already satisfied: cachetools<6.0,>=2.0.0 in c:\\users\\carly\\anaconda3\\envs\\medical\\lib\\site-packages (from google-auth>=1.0.1->kubernetes>=28.1.0->chromadb!=0.5.4,!=0.5.5,<0.6.0,>=0.4.0->langchain-chroma) (5.5.0)\n",
      "Requirement already satisfied: pyasn1-modules>=0.2.1 in c:\\users\\carly\\anaconda3\\envs\\medical\\lib\\site-packages (from google-auth>=1.0.1->kubernetes>=28.1.0->chromadb!=0.5.4,!=0.5.5,<0.6.0,>=0.4.0->langchain-chroma) (0.4.1)\n",
      "Requirement already satisfied: rsa<5,>=3.1.4 in c:\\users\\carly\\anaconda3\\envs\\medical\\lib\\site-packages (from google-auth>=1.0.1->kubernetes>=28.1.0->chromadb!=0.5.4,!=0.5.5,<0.6.0,>=0.4.0->langchain-chroma) (4.9)\n",
      "Requirement already satisfied: zipp>=3.20 in c:\\users\\carly\\anaconda3\\envs\\medical\\lib\\site-packages (from importlib-metadata<=8.5.0,>=6.0->opentelemetry-api>=1.2.0->chromadb!=0.5.4,!=0.5.5,<0.6.0,>=0.4.0->langchain-chroma) (3.21.0)\n",
      "Requirement already satisfied: mdurl~=0.1 in c:\\users\\carly\\anaconda3\\envs\\medical\\lib\\site-packages (from markdown-it-py>=2.2.0->rich>=10.11.0->chromadb!=0.5.4,!=0.5.5,<0.6.0,>=0.4.0->langchain-chroma) (0.1.2)\n",
      "Requirement already satisfied: humanfriendly>=9.1 in c:\\users\\carly\\anaconda3\\envs\\medical\\lib\\site-packages (from coloredlogs->onnxruntime>=1.14.1->chromadb!=0.5.4,!=0.5.5,<0.6.0,>=0.4.0->langchain-chroma) (10.0)\n",
      "Requirement already satisfied: mpmath<1.4,>=1.1.0 in c:\\users\\carly\\anaconda3\\envs\\medical\\lib\\site-packages (from sympy->onnxruntime>=1.14.1->chromadb!=0.5.4,!=0.5.5,<0.6.0,>=0.4.0->langchain-chroma) (1.3.0)\n",
      "Requirement already satisfied: pyreadline3 in c:\\users\\carly\\anaconda3\\envs\\medical\\lib\\site-packages (from humanfriendly>=9.1->coloredlogs->onnxruntime>=1.14.1->chromadb!=0.5.4,!=0.5.5,<0.6.0,>=0.4.0->langchain-chroma) (3.5.4)\n",
      "Requirement already satisfied: pyasn1<0.7.0,>=0.4.6 in c:\\users\\carly\\anaconda3\\envs\\medical\\lib\\site-packages (from pyasn1-modules>=0.2.1->google-auth>=1.0.1->kubernetes>=28.1.0->chromadb!=0.5.4,!=0.5.5,<0.6.0,>=0.4.0->langchain-chroma) (0.6.1)\n",
      "Note: you may need to restart the kernel to use updated packages.\n"
     ]
    }
   ],
   "source": [
    "%pip install python-dotenv langchain langchain-upstage langchain-community langchain-text-splitters docx2txt langchain-chroma"
   ]
  },
  {
   "cell_type": "markdown",
   "metadata": {},
   "source": [
    "## 2. Knowledge Base 구성을 위한 데이터 생성 \n",
    "- RecursiveCharacterTextSplitter를 활용해서 데이터 chunking \n",
    "\t- Recursively의 경우 list type\n",
    "- chunk_size: split된 chunk's max size\n",
    "- chunk_overlap: 앞 뒤로 나뉘어진 chunk들이 얼마나 겹쳐도 되는지 지정"
   ]
  },
  {
   "cell_type": "markdown",
   "metadata": {},
   "source": []
  },
  {
   "cell_type": "code",
   "execution_count": 2,
   "metadata": {},
   "outputs": [],
   "source": [
    "# from langchain_community.document_loaders import Docx2txtLoader\n",
    "\n",
    "# loader = Docx2txtLoader('./medical.docx')\n",
    "# document = loader.load()"
   ]
  },
  {
   "cell_type": "code",
   "execution_count": 3,
   "metadata": {},
   "outputs": [],
   "source": [
    "# document"
   ]
  },
  {
   "cell_type": "code",
   "execution_count": 4,
   "metadata": {},
   "outputs": [],
   "source": [
    "# len(document) # 통으로 불러옴"
   ]
  },
  {
   "cell_type": "markdown",
   "metadata": {},
   "source": [
    "## 3. 문서 쪼개기 (RecursiveCharacterTextSplitter)"
   ]
  },
  {
   "cell_type": "markdown",
   "metadata": {},
   "source": [
    "단순히 로컬 파일('./medical.docx')을 읽어 텍스트 데이터를 처리하기 때문에 환경변수가 필요하지 않음"
   ]
  },
  {
   "cell_type": "code",
   "execution_count": 5,
   "metadata": {},
   "outputs": [],
   "source": [
    "from langchain_community.document_loaders import Docx2txtLoader\n",
    "from langchain_text_splitters import RecursiveCharacterTextSplitter\n",
    "\n",
    "text_splitter = RecursiveCharacterTextSplitter(\n",
    "    chunk_size = 1500,\n",
    "    chunk_overlap = 200,\n",
    ")\n",
    "\n",
    "loader = Docx2txtLoader('./medical.docx')\n",
    "document_list = loader.load_and_split(text_splitter=text_splitter)"
   ]
  },
  {
   "cell_type": "code",
   "execution_count": 6,
   "metadata": {},
   "outputs": [
    {
     "data": {
      "text/plain": [
       "69"
      ]
     },
     "execution_count": 6,
     "metadata": {},
     "output_type": "execute_result"
    }
   ],
   "source": [
    "len(document_list)"
   ]
  },
  {
   "cell_type": "markdown",
   "metadata": {},
   "source": [
    "UpstageEmbeddings 객체를 초기화하는 과정에서 API 키나 인증 정보를 필요로 하기 때문에 환경변수 로드가 필요"
   ]
  },
  {
   "cell_type": "code",
   "execution_count": 7,
   "metadata": {},
   "outputs": [],
   "source": [
    "from dotenv import load_dotenv # 환경변수 로드 \n",
    "from langchain_upstage import UpstageEmbeddings\n",
    "\n",
    "load_dotenv()\n",
    "\n",
    "# Solar Pro will stay free until charging begins on Jan 6, 2025.\n",
    "embedding = UpstageEmbeddings(model=\"embedding-query\") "
   ]
  },
  {
   "cell_type": "markdown",
   "metadata": {},
   "source": [
    "- collection_name\n",
    "\t- 서로 다른 유형의 데이터를 독립적으로 관리하기 위해 사용\n",
    "\t- 특정 그룹의 데이터만 검색할 수 있어 검색 속도와 효율성 향상\n",
    "\t- 데이터를 추가하거나 삭제할 때도 사용 (특정 컬렉션만 삭제 혹은 업데이트 가능) \n",
    "\t- 따라서, 데이터 관리 유용"
   ]
  },
  {
   "cell_type": "code",
   "execution_count": 8,
   "metadata": {},
   "outputs": [],
   "source": [
    "from langchain_chroma import Chroma\n",
    "\n",
    "# 데이터를 처음 저장할 때 (persis_directory: 날아가지 않도록)\n",
    "database = Chroma.from_documents(documents=document_list,\n",
    "                                 embedding=embedding,\n",
    "                                 collection_name='medical-law',\n",
    "                                 persist_directory=\"./chroma\")\n",
    "\n",
    "# 이미 저장된 데이터를 사용할 때 \n",
    "# database = Chroma(collection_name='medical-law', persist_directory=\"./chroma\", embedding_function=embedding)"
   ]
  },
  {
   "cell_type": "code",
   "execution_count": 9,
   "metadata": {},
   "outputs": [],
   "source": [
    "query = '환자가 진료 기록 열람을 요청할 수 있는 절차는 무엇인가요?'\n",
    "\n",
    "# 'k'값을 조정해서 얼마나 많은 데이터를 불러올지 결정\n",
    "retrieved_docs = database.similarity_search(query, k=3)"
   ]
  },
  {
   "cell_type": "code",
   "execution_count": 10,
   "metadata": {},
   "outputs": [
    {
     "data": {
      "text/plain": [
       "[Document(metadata={'source': './medical.docx'}, page_content='② 제58조제2항에 따라 의료기관 인증에 관한 업무에 종사하는 자 또는 종사하였던 자는 그 업무를 하면서 알게 된 정보를 다른 사람에게 누설하거나 부당한 목적으로 사용하여서는 아니 된다.<신설 2016. 5. 29.>\\n\\n[제목개정 2016. 5. 29.]\\n\\n\\n\\n제20조(태아 성 감별 행위 등 금지) ①의료인은 태아 성 감별을 목적으로 임부를 진찰하거나 검사하여서는 아니 되며, 같은 목적을 위한 다른 사람의 행위를 도와서도 아니 된다.\\n\\n②의료인은 임신 32주 이전에 태아나 임부를 진찰하거나 검사하면서 알게 된 태아의 성(性)을 임부, 임부의 가족, 그 밖의 다른 사람이 알게 하여서는 아니 된다.<개정 2009. 12. 31.>\\n\\n[2009. 12. 31. 법률 제9906호에 의하여 2008. 7. 31. 헌법재판소에서 헌법불합치 결정된 이 조 제2항을 개정함.]\\n\\n[단순위헌, 2022헌마356, 2024.2.28, 의료법(2009. 12. 31. 법률 제9906호로 개정된 것) 제20조 제2항은 헌법에 위반된다.]\\n\\n\\n\\n제21조(기록 열람 등) ① 환자는 의료인, 의료기관의 장 및 의료기관 종사자에게 본인에 관한 기록(추가기재ㆍ수정된 경우 추가기재ㆍ수정된 기록 및 추가기재ㆍ수정 전의 원본을 모두 포함한다. 이하 같다)의 전부 또는 일부에 대하여 열람 또는 그 사본의 발급 등 내용의 확인을 요청할 수 있다. 이 경우 의료인, 의료기관의 장 및 의료기관 종사자는 정당한 사유가 없으면 이를 거부하여서는 아니 된다. <신설 2016. 12. 20., 2018. 3. 27.>\\n\\n②의료인, 의료기관의 장 및 의료기관 종사자는 환자가 아닌 다른 사람에게 환자에 관한 기록을 열람하게 하거나 그 사본을 내주는 등 내용을 확인할 수 있게 하여서는 아니 된다.<개정 2009. 1. 30., 2016. 12. 20.>\\n\\n③ 제2항에도 불구하고 의료인, 의료기관의 장 및 의료기관 종사자는 다음 각 호의 어느 하나에 해당하면 그 기록을 열람하게 하거나 그 사본을 교부하는 등 그 내용을 확인할 수 있게 하여야 한다. 다만, 의사ㆍ치과의사 또는 한의사가 환자의 진료를 위하여 불가피하다고 인정한 경우에는 그러하지 아니하다.<개정 2009. 1. 30., 2010. 1. 18., 2011. 4. 7., 2011. 12. 31., 2012. 2. 1., 2015. 12. 22., 2015. 12. 29., 2016. 5. 29., 2016. 12. 20., 2018. 3. 20., 2018. 8. 14., 2020. 3. 4., 2020. 8. 11., 2020. 12. 29., 2023. 10. 31.>\\n\\n1. 환자의 배우자, 직계 존속ㆍ비속, 형제ㆍ자매(환자의 배우자 및 직계 존속ㆍ비속, 배우자의 직계존속이 모두 없는 경우에 한정한다) 또는 배우자의 직계 존속이 환자 본인의 동의서와 친족관계임을 나타내는 증명서 등을 첨부하는 등 보건복지부령으로 정하는 요건을 갖추어 요청한 경우'),\n",
       " Document(metadata={'source': './medical.docx'}, page_content='17. 「국가유공자 등 예우 및 지원에 관한 법률」 제74조의8제1항제7호에 따라 보훈심사위원회가 보훈심사와 관련하여 보훈심사대상자를 진료한 의료기관에 해당 진료에 관한 사항의 열람 또는 사본 교부를 요청하는 경우\\n\\n18. 「한국보훈복지의료공단법」 제24조의2에 따라 한국보훈복지의료공단이 같은 법 제6조제1호에 따른 국가유공자등에 대한 진료기록등의 제공을 요청하는 경우\\n\\n19. 「군인사법」 제54조의6에 따라 중앙전공사상심사위원회 또는 보통전공사상심사위원회가 전공사상 심사와 관련하여 전사자등을 진료한 의료기관에 대하여 해당 진료에 관한 사항의 열람 또는 사본 교부를 요청하는 경우\\n\\n④ 진료기록을 보관하고 있는 의료기관이나 진료기록이 이관된 보건소에 근무하는 의사ㆍ치과의사 또는 한의사는 자신이 직접 진료하지 아니한 환자의 과거 진료 내용의 확인 요청을 받은 경우에는 진료기록을 근거로 하여 사실을 확인하여 줄 수 있다.<신설 2009. 1. 30.>\\n\\n⑤ 제1항, 제3항 또는 제4항의 경우 의료인, 의료기관의 장 및 의료기관 종사자는 「전자서명법」에 따른 전자서명이 기재된 전자문서를 제공하는 방법으로 환자 또는 환자가 아닌 다른 사람에게 기록의 내용을 확인하게 할 수 있다.<신설 2020. 3. 4.>\\n\\n\\n\\n제21조의2(진료기록의 송부 등) ① 의료인 또는 의료기관의 장은 다른 의료인 또는 의료기관의 장으로부터 제22조 또는 제23조에 따른 진료기록의 내용 확인이나 진료기록의 사본 및 환자의 진료경과에 대한 소견 등을 송부 또는 전송할 것을 요청받은 경우 해당 환자나 환자 보호자의 동의를 받아 그 요청에 응하여야 한다. 다만, 해당 환자의 의식이 없거나 응급환자인 경우 또는 환자의 보호자가 없어 동의를 받을 수 없는 경우에는 환자나 환자 보호자의 동의 없이 송부 또는 전송할 수 있다.\\n\\n② 의료인 또는 의료기관의 장이 응급환자를 다른 의료기관에 이송하는 경우에는 지체 없이 내원 당시 작성된 진료기록의 사본 등을 이송하여야 한다.\\n\\n③ 보건복지부장관은 제1항 및 제2항에 따른 진료기록의 사본 및 진료경과에 대한 소견 등의 전송 업무를 지원하기 위하여 전자정보시스템(이하 이 조에서 “진료기록전송지원시스템”이라 한다)을 구축ㆍ운영할 수 있다.\\n\\n④ 보건복지부장관은 진료기록전송지원시스템의 구축ㆍ운영을 대통령령으로 정하는 바에 따라 관계 전문기관에 위탁할 수 있다. 이 경우 보건복지부장관은 그 소요 비용의 전부 또는 일부를 지원할 수 있다.\\n\\n⑤ 제4항에 따라 업무를 위탁받은 전문기관은 다음 각 호의 사항을 준수하여야 한다.\\n\\n1. 진료기록전송지원시스템이 보유한 정보의 누출, 변조, 훼손 등을 방지하기 위하여 접근 권한자의 지정, 방화벽의 설치, 암호화 소프트웨어의 활용, 접속기록 보관 등 대통령령으로 정하는 바에 따라 안전성 확보에 필요한 기술적ㆍ관리적 조치를 할 것\\n\\n2. 진료기록전송지원시스템 운영 업무를 다른 기관에 재위탁하지 아니할 것\\n\\n3. 진료기록전송지원시스템이 보유한 정보를 제3자에게 임의로 제공하거나 유출하지 아니할 것'),\n",
       " Document(metadata={'source': './medical.docx'}, page_content='1. 환자의 배우자, 직계 존속ㆍ비속, 형제ㆍ자매(환자의 배우자 및 직계 존속ㆍ비속, 배우자의 직계존속이 모두 없는 경우에 한정한다) 또는 배우자의 직계 존속이 환자 본인의 동의서와 친족관계임을 나타내는 증명서 등을 첨부하는 등 보건복지부령으로 정하는 요건을 갖추어 요청한 경우\\n\\n2. 환자가 지정하는 대리인이 환자 본인의 동의서와 대리권이 있음을 증명하는 서류를 첨부하는 등 보건복지부령으로 정하는 요건을 갖추어 요청한 경우\\n\\n3. 환자가 사망하거나 의식이 없는 등 환자의 동의를 받을 수 없어 환자의 배우자, 직계 존속ㆍ비속, 형제ㆍ자매(환자의 배우자 및 직계 존속ㆍ비속, 배우자의 직계존속이 모두 없는 경우에 한정한다) 또는 배우자의 직계 존속이 친족관계임을 나타내는 증명서 등을 첨부하는 등 보건복지부령으로 정하는 요건을 갖추어 요청한 경우\\n\\n4. 「국민건강보험법」 제14조, 제47조, 제48조 및 제63조에 따라 급여비용 심사ㆍ지급ㆍ대상여부 확인ㆍ사후관리 및 요양급여의 적정성 평가ㆍ가감지급 등을 위하여 국민건강보험공단 또는 건강보험심사평가원에 제공하는 경우\\n\\n5. 「의료급여법」 제5조, 제11조, 제11조의3 및 제33조에 따라 의료급여 수급권자 확인, 급여비용의 심사ㆍ지급, 사후관리 등 의료급여 업무를 위하여 보장기관(시ㆍ군ㆍ구), 국민건강보험공단, 건강보험심사평가원에 제공하는 경우\\n\\n6. 「형사소송법」 제106조, 제215조 또는 제218조에 따른 경우\\n\\n6의2. 「군사법원법」 제146조, 제254조 또는 제257조에 따른 경우\\n\\n7. 「민사소송법」 제347조에 따라 문서제출을 명한 경우\\n\\n8. 「산업재해보상보험법」 제118조에 따라 근로복지공단이 보험급여를 받는 근로자를 진료한 산재보험 의료기관(의사를 포함한다)에 대하여 그 근로자의 진료에 관한 보고 또는 서류 등 제출을 요구하거나 조사하는 경우\\n\\n9. 「자동차손해배상 보장법」 제12조제2항 및 제14조에 따라 의료기관으로부터 자동차보험진료수가를 청구받은 보험회사등이 그 의료기관에 대하여 관계 진료기록의 열람을 청구한 경우\\n\\n10. 「병역법」 제11조의2에 따라 지방병무청장이 병역판정검사와 관련하여 질병 또는 심신장애의 확인을 위하여 필요하다고 인정하여 의료기관의 장에게 병역판정검사대상자의 진료기록ㆍ치료 관련 기록의 제출을 요구한 경우\\n\\n11. 「학교안전사고 예방 및 보상에 관한 법률」 제42조에 따라 공제회가 공제급여의 지급 여부를 결정하기 위하여 필요하다고 인정하여 「국민건강보험법」 제42조에 따른 요양기관에 대하여 관계 진료기록의 열람 또는 필요한 자료의 제출을 요청하는 경우\\n\\n12. 「고엽제후유의증 등 환자지원 및 단체설립에 관한 법률」 제7조제3항에 따라 의료기관의 장이 진료기록 및 임상소견서를 보훈병원장에게 보내는 경우\\n\\n13. 「의료사고 피해구제 및 의료분쟁 조정 등에 관한 법률」 제28조제1항 또는 제3항에 따른 경우')]"
      ]
     },
     "execution_count": 10,
     "metadata": {},
     "output_type": "execute_result"
    }
   ],
   "source": [
    "retrieved_docs "
   ]
  },
  {
   "cell_type": "markdown",
   "metadata": {},
   "source": [
    "## 4. Augmentation을 위한 Prompt 활용\n",
    "- Retrieval된 데이터는 LangChain에서 제공하는 프롬프트(\"rlm/rag-promt\") 사용"
   ]
  },
  {
   "cell_type": "code",
   "execution_count": 11,
   "metadata": {},
   "outputs": [],
   "source": [
    "# RLM: Retrieval Language Model (검색 + 언어 모델의 결합)\n",
    "from langchain_upstage import ChatUpstage\n",
    "\n",
    "llm = ChatUpstage(model=\"solar-pro\")"
   ]
  },
  {
   "cell_type": "code",
   "execution_count": 12,
   "metadata": {},
   "outputs": [
    {
     "name": "stderr",
     "output_type": "stream",
     "text": [
      "c:\\Users\\carly\\anaconda3\\envs\\medical\\lib\\site-packages\\langsmith\\client.py:261: LangSmithMissingAPIKeyWarning: API key must be provided when using hosted LangSmith API\n",
      "  warnings.warn(\n"
     ]
    }
   ],
   "source": [
    "from langchain import hub\n",
    "\n",
    "# 미리 정의된 프롬프트 템플릿을 가져오는 역할\n",
    "prompt = hub.pull(\"rlm/rag-prompt\")"
   ]
  },
  {
   "cell_type": "markdown",
   "metadata": {},
   "source": [
    "## 5. 답변 생성\n",
    "- RetrievalQA를 통해 LLM에 전달"
   ]
  },
  {
   "cell_type": "code",
   "execution_count": 13,
   "metadata": {},
   "outputs": [],
   "source": [
    "from langchain.chains import RetrievalQA\n",
    "\n",
    "qa_chain = RetrievalQA.from_chain_type(\n",
    "    llm, \n",
    "    retriever = database.as_retriever(),\n",
    "    chain_type_kwargs = {\"prompt\": prompt}\n",
    ")"
   ]
  },
  {
   "cell_type": "markdown",
   "metadata": {},
   "source": [
    "### as_retriever(): pipecope 등 다양한 곳에서 사용가능 \n",
    "- LangChain에서 데이터베이스나 벡터 스토어를 검색기(retriever)로 변환하는 메소드"
   ]
  },
  {
   "cell_type": "code",
   "execution_count": 14,
   "metadata": {},
   "outputs": [],
   "source": [
    "ai_message = qa_chain.invoke({\"query\": query})"
   ]
  },
  {
   "cell_type": "code",
   "execution_count": 15,
   "metadata": {},
   "outputs": [
    {
     "data": {
      "text/plain": [
       "{'query': '환자가 진료 기록 열람을 요청할 수 있는 절차는 무엇인가요?',\n",
       " 'result': '환자는 의료인, 의료기관의 장 및 의료기관 종사자에게 본인에 관한 기록(추가기재ㆍ수정된 경우 추가기재ㆍ수정된 기록 및 추가기재ㆍ수정 전의 원본을 모두 포함한다. 이하 같다)의 전부 또는 일부에 대하여 열람 또는 그 사본의 발급 등 내용의 확인을 요청할 수 있습니다. 의료인, 의료기관의 장 및 의료기관 종사자는 환자의 요청이 있을 경우 정당한 사유가 없는 한 진료 기록 열람을 허용해야 합니다.'}"
      ]
     },
     "execution_count": 15,
     "metadata": {},
     "output_type": "execute_result"
    }
   ],
   "source": [
    "ai_message"
   ]
  },
  {
   "cell_type": "code",
   "execution_count": null,
   "metadata": {},
   "outputs": [],
   "source": []
  }
 ],
 "metadata": {
  "kernelspec": {
   "display_name": "medical",
   "language": "python",
   "name": "python3"
  },
  "language_info": {
   "codemirror_mode": {
    "name": "ipython",
    "version": 3
   },
   "file_extension": ".py",
   "mimetype": "text/x-python",
   "name": "python",
   "nbconvert_exporter": "python",
   "pygments_lexer": "ipython3",
   "version": "3.10.16"
  }
 },
 "nbformat": 4,
 "nbformat_minor": 2
}
